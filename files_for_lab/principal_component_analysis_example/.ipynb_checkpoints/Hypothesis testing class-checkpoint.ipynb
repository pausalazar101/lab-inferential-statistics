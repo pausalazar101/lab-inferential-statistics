{
 "cells": [
  {
   "cell_type": "code",
   "execution_count": 1,
   "id": "0287ef6c",
   "metadata": {},
   "outputs": [],
   "source": [
    "import numpy as np\n",
    "import pandas as pd\n",
    "import matplotlib.pyplot as plt\n",
    "import seaborn as sns\n",
    "%matplotlib inline\n",
    "\n",
    "import scipy.stats as st"
   ]
  },
  {
   "cell_type": "code",
   "execution_count": 2,
   "id": "b34429b1",
   "metadata": {},
   "outputs": [
    {
     "data": {
      "text/plain": [
       "array([0., 0., 0., 0., 0., 0., 0., 0., 0., 0., 0., 0., 0., 0., 0., 0., 0.])"
      ]
     },
     "execution_count": 2,
     "metadata": {},
     "output_type": "execute_result"
    }
   ],
   "source": [
    "probabilities = np.zeros(17)\n",
    "probabilities"
   ]
  },
  {
   "cell_type": "code",
   "execution_count": 3,
   "id": "e1f5c7a6",
   "metadata": {},
   "outputs": [
    {
     "name": "stdout",
     "output_type": "stream",
     "text": [
      "The probability of P(corrects=0, drinks=16) = 0.00002\n",
      "The probability of P(corrects=1, drinks=16) = 0.00024\n",
      "The probability of P(corrects=2, drinks=16) = 0.00183\n",
      "The probability of P(corrects=3, drinks=16) = 0.00854\n",
      "The probability of P(corrects=4, drinks=16) = 0.02777\n",
      "The probability of P(corrects=5, drinks=16) = 0.06665\n",
      "The probability of P(corrects=6, drinks=16) = 0.12219\n",
      "The probability of P(corrects=7, drinks=16) = 0.17456\n",
      "The probability of P(corrects=8, drinks=16) = 0.19638\n",
      "The probability of P(corrects=9, drinks=16) = 0.17456\n",
      "The probability of P(corrects=10, drinks=16) = 0.12219\n",
      "The probability of P(corrects=11, drinks=16) = 0.06665\n",
      "The probability of P(corrects=12, drinks=16) = 0.02777\n",
      "The probability of P(corrects=13, drinks=16) = 0.00854\n",
      "The probability of P(corrects=14, drinks=16) = 0.00183\n",
      "The probability of P(corrects=15, drinks=16) = 0.00024\n",
      "The probability of P(corrects=16, drinks=16) = 0.00002\n"
     ]
    }
   ],
   "source": [
    "for number_of_corrects in range(17):\n",
    "    print(\"The probability of P(corrects={}, drinks=16) = {:.5f}\".format(number_of_corrects, st.binom.pmf(number_of_corrects,16,0.5)))\n",
    "    probabilities[number_of_corrects] = st.binom.pmf(number_of_corrects,16,0.5)"
   ]
  },
  {
   "cell_type": "code",
   "execution_count": 5,
   "id": "dd353b6c",
   "metadata": {},
   "outputs": [
    {
     "data": {
      "text/plain": [
       "0.01063"
      ]
     },
     "execution_count": 5,
     "metadata": {},
     "output_type": "execute_result"
    }
   ],
   "source": [
    "#Probabilty of being correct 13 times or more\n",
    "0.00854+0.00183+0.00024+0.00002"
   ]
  },
  {
   "cell_type": "code",
   "execution_count": 6,
   "id": "539570de",
   "metadata": {},
   "outputs": [
    {
     "data": {
      "text/plain": [
       "0.0106353759765625"
      ]
     },
     "execution_count": 6,
     "metadata": {},
     "output_type": "execute_result"
    }
   ],
   "source": [
    "#Probability of having 13 or more correct guesses using cumulative distribution function: 1.06%\n",
    "1-st.binom.cdf(12,16,0.5)"
   ]
  },
  {
   "cell_type": "code",
   "execution_count": 4,
   "id": "c794a870",
   "metadata": {},
   "outputs": [
    {
     "data": {
      "image/png": "[encoded data removed]",
      "text/plain": [
       "<Figure size 640x480 with 1 Axes>"
      ]
     },
     "metadata": {},
     "output_type": "display_data"
    }
   ],
   "source": [
    "fig, ax = plt.subplots()\n",
    "sns.barplot(x=np.arange(17), y=probabilities, color=\"lightblue\", ax=ax)\n",
    "ax.set_xlabel(\"Number of corrects\")\n",
    "ax.set_ylabel(\"Probability\")\n",
    "ax.set_title(\"Probabilities\")\n",
    "plt.show()"
   ]
  },
  {
   "cell_type": "code",
   "execution_count": 11,
   "id": "6e3f0de5",
   "metadata": {},
   "outputs": [
    {
     "data": {
      "text/plain": [
       "array([ 5.54202542,  2.13259507,  6.09824178,  6.93249806,  6.75950475,\n",
       "        8.11862229,  4.92128274,  4.52063786,  5.33788007,  4.39954696,\n",
       "        8.5740112 ,  6.9436964 ,  2.18990026,  4.87912105,  5.96374338,\n",
       "        2.25954834,  7.20380246,  4.34248312,  3.35243216,  4.69995609,\n",
       "        3.52832911,  6.75003055,  5.88613404,  4.38536543,  3.80982387,\n",
       "        5.31002841,  3.15990362,  5.35598537,  3.89164314,  5.65983359,\n",
       "        6.66406682,  4.8782636 ,  5.26617009,  5.58094566,  6.64912847,\n",
       "        6.49139815,  6.00845294,  5.84445175,  3.23540307,  1.84240833,\n",
       "        3.25133873, 10.45225183,  5.30276354,  3.98931377,  5.99227909,\n",
       "        5.25863456,  6.12068188,  6.22497709,  3.63425095,  3.84237724,\n",
       "        6.89069087,  3.52656623,  5.49123203,  4.16974442,  5.78730224,\n",
       "        6.37744318,  4.12388792,  6.99664673,  3.96266559,  3.85019371,\n",
       "        4.73140324,  5.29231213,  3.83844826,  0.36380381,  3.82707021,\n",
       "        5.5553316 ,  5.93605965,  5.23368711,  9.45327294,  6.07761261,\n",
       "        3.76248961,  5.09408633,  5.72895149,  6.19519213,  6.34032269,\n",
       "        5.98960462,  4.23443216,  7.5390676 ,  7.03341621,  5.18204366,\n",
       "        4.41739006,  6.39270436,  5.19164762,  3.43572548,  6.59463694,\n",
       "        4.90794473,  8.63122609, -0.33988925,  7.07364623,  4.15939066,\n",
       "        3.53690093,  5.84891248,  9.69380308,  3.16706291,  6.70576509,\n",
       "        6.90916231,  5.99606351,  4.11056432,  4.74032205,  8.64544232])"
      ]
     },
     "execution_count": 11,
     "metadata": {},
     "output_type": "execute_result"
    }
   ],
   "source": [
    "# Confidence interval\n",
    "\n",
    "# Create some (fake) data of 100 patient's cholesterol level, with mean 5.1 and std dev 1.6\n",
    "# We'll assume this was obtained through measurements\n",
    "# np.random.normal(mean, sd, number_of_samples)\n",
    "np.random.seed(17)\n",
    "patients = np.random.normal(5.1, 1.6, 100)\n",
    "#     targeted mean value    ^\n",
    "#  with a standard dev of         ^\n",
    "# number of random values to generate  ^\n",
    "patients"
   ]
  },
  {
   "cell_type": "code",
   "execution_count": 12,
   "id": "21b834d7",
   "metadata": {},
   "outputs": [
    {
     "data": {
      "text/plain": [
       "5.278415670796427"
      ]
     },
     "execution_count": 12,
     "metadata": {},
     "output_type": "execute_result"
    }
   ],
   "source": [
    "sample_mean = patients.mean()\n",
    "sample_mean"
   ]
  },
  {
   "cell_type": "code",
   "execution_count": 13,
   "id": "a09ac7c7",
   "metadata": {},
   "outputs": [],
   "source": [
    "#Find a confidence interval with confidence level of 95%\n",
    "confidence_level = 0.95\n",
    "degrees_freedom = len(patients)-1 #size of sample minus 1 = 100-1=99\n",
    "sample_mean = patients.mean()"
   ]
  },
  {
   "cell_type": "code",
   "execution_count": 14,
   "id": "60e4392b",
   "metadata": {},
   "outputs": [
    {
     "data": {
      "text/plain": [
       "0.18022845149927424"
      ]
     },
     "execution_count": 14,
     "metadata": {},
     "output_type": "execute_result"
    }
   ],
   "source": [
    "import statistics\n",
    "\n",
    "sem = statistics.stdev(patients)/100**0.5\n",
    "'''standard error of the mean: measures how far the sample mean of the data is likely to be \n",
    "from the true population mean. The SEM is always smaller than the SD.\n",
    "sem = standard_deviation_sample / square root of sample_size\n",
    "\n",
    "'''\n",
    "sem"
   ]
  },
  {
   "cell_type": "code",
   "execution_count": 15,
   "id": "8389090b",
   "metadata": {},
   "outputs": [
    {
     "data": {
      "text/plain": [
       "0.18022845149927427"
      ]
     },
     "execution_count": 15,
     "metadata": {},
     "output_type": "execute_result"
    }
   ],
   "source": [
    "sample_standard_error = st.sem(patients) # sem = standard error of the mean = std(sample)/sqrt(samplesize)\n",
    "#documentation: https://docs.scipy.org/doc/scipy/reference/generated/scipy.stats.sem.html\n",
    "sample_standard_error"
   ]
  },
  {
   "cell_type": "code",
   "execution_count": 16,
   "id": "e8056c5f",
   "metadata": {},
   "outputs": [
    {
     "data": {
      "text/plain": [
       "(4.925174396868425, 5.631656944724429)"
      ]
     },
     "execution_count": 16,
     "metadata": {},
     "output_type": "execute_result"
    }
   ],
   "source": [
    "confidence_interval_norm = st.norm.interval(confidence_level,\n",
    "                                             sample_mean,\n",
    "                                             sample_standard_error)\n",
    "confidence_interval_norm"
   ]
  },
  {
   "cell_type": "markdown",
   "id": "a1e7e7a2",
   "metadata": {},
   "source": [
    "We are 95% confident that the mean of the population is included in this interval.\n",
    "\n",
    "In this case, where we created the data, we **know** the mean of the population is 5.1, and it **is** included in this interval"
   ]
  },
  {
   "cell_type": "code",
   "execution_count": 17,
   "id": "5517027a",
   "metadata": {},
   "outputs": [
    {
     "data": {
      "text/plain": [
       "(4.920803322187407, 5.6360280194054475)"
      ]
     },
     "execution_count": 17,
     "metadata": {},
     "output_type": "execute_result"
    }
   ],
   "source": [
    "#If we’re working with a small sample (n<30), we can use the st.t.interval()\n",
    "confidence_interval = st.t.interval(confidence=0.95, df=len(patients)-1, loc=np.mean(patients), scale=st.sem(patients))\n",
    "confidence_interval"
   ]
  },
  {
   "cell_type": "markdown",
   "id": "f463429e",
   "metadata": {},
   "source": [
    "If you have a sample of 100 people and want to calculate a 95% confidence interval for the mean weight of the population, and you know the sample mean is 70 kg, the sample standard deviation is 10 kg"
   ]
  },
  {
   "cell_type": "code",
   "execution_count": 18,
   "id": "e9585a79",
   "metadata": {},
   "outputs": [
    {
     "data": {
      "text/plain": [
       "(68.04003601545995, 71.95996398454005)"
      ]
     },
     "execution_count": 18,
     "metadata": {},
     "output_type": "execute_result"
    }
   ],
   "source": [
    "confidence_interval_norm = st.norm.interval(0.95,70,(10/100**0.5))\n",
    "confidence_interval_norm"
   ]
  },
  {
   "cell_type": "markdown",
   "id": "d442845c",
   "metadata": {},
   "source": [
    "This gives you a confidence interval of 68.04 kg to 71.96 kg, which means you can be 95% confident that the true population mean weight falls within this range."
   ]
  },
  {
   "cell_type": "markdown",
   "id": "cf4f701d",
   "metadata": {},
   "source": [
    "A sample of 50 college students were asked how many exclusive relationships they’ve been in so far. The students in the sample had an average of 3.2 exclusive relationships, with a standard deviation of 1.74. Estimate the true average number of exclusive relationships based on this sample using 95% confidence interval."
   ]
  },
  {
   "cell_type": "code",
   "execution_count": 20,
   "id": "afb73f81",
   "metadata": {},
   "outputs": [],
   "source": [
    "n=50\n",
    "\n",
    "sample_mean = 3.2\n",
    "\n",
    "std_dev= 1.74\n",
    "\n",
    "confidence_level = 0.95"
   ]
  },
  {
   "cell_type": "code",
   "execution_count": 21,
   "id": "90827ba8",
   "metadata": {},
   "outputs": [
    {
     "data": {
      "text/plain": [
       "0.24607315985291853"
      ]
     },
     "execution_count": 21,
     "metadata": {},
     "output_type": "execute_result"
    }
   ],
   "source": [
    "sem = std_dev/n**0.5\n",
    "sem"
   ]
  },
  {
   "cell_type": "code",
   "execution_count": 22,
   "id": "b739d140",
   "metadata": {},
   "outputs": [
    {
     "data": {
      "text/plain": [
       "(2.7177054691263125, 3.682294530873688)"
      ]
     },
     "execution_count": 22,
     "metadata": {},
     "output_type": "execute_result"
    }
   ],
   "source": [
    "confidence_interval_norm = st.norm.interval(confidence_level,\n",
    "                                             sample_mean,\n",
    "                                             sem)\n",
    "confidence_interval_norm"
   ]
  },
  {
   "cell_type": "markdown",
   "id": "5be2c927",
   "metadata": {},
   "source": [
    "We are 95% confident that college students on average have been in 2.72 to 3.68 exclusive relationships."
   ]
  },
  {
   "cell_type": "markdown",
   "id": "356d3ef8",
   "metadata": {},
   "source": [
    "## Hypothesis testing via confidence interval\n",
    "\n",
    "Based on this confidence interval, do these data support the hypothesis that college students on average have been in more than 3 exclusive relationships?\n",
    "\n",
    "Our hypotheses will be will like this:\n",
    "\n",
    "H0: µ <= 3 College students have been in 3 exclusive relationships, on average.\n",
    "\n",
    "HA: µ > 3 College students have been in more than 3 exclusive relationships, on average."
   ]
  },
  {
   "cell_type": "markdown",
   "id": "17450a70",
   "metadata": {},
   "source": [
    "For this case, our intervals span from 2.71 to 3.68 and the null value µ=3 is actually included in the interval. And the interval says any value within this range could conceivably be the true population mean therefore we cannot reject the null hypothesis in favor of the alternative.\n",
    "\n",
    "This is quick and dirty approach for hypothesis testing. However, it doesn’t tell us the likelihood of certain outcome under the null hypothesis. In the other words it does not tell us  the p value."
   ]
  },
  {
   "cell_type": "markdown",
   "id": "4e0085ce",
   "metadata": {},
   "source": [
    "## Which test to apply\n",
    "\n",
    "Depending on what we know about the population, it is the test that we can apply. \n",
    "\n",
    "Do you know the population's standard deviation?\n",
    "\n",
    "    YES: \n",
    "\n",
    "        Is the sample size above 30? \n",
    "\n",
    "            YES: Use the Z-test\n",
    "            NO: Use the T-test\n",
    "\n",
    "\n",
    "    NO: Use the T-test"
   ]
  },
  {
   "cell_type": "markdown",
   "id": "03aea0a1",
   "metadata": {},
   "source": [
    "## One tail or two tails?\n",
    "\n",
    "https://miro.medium.com/v2/resize:fit:862/1*VXxdieFiYCgR6v7nUaq01g.jpeg\n",
    "\n",
    "### 2-tailed test\n",
    "\n",
    "$H_0: \\mu = \\mu_0$\n",
    "\n",
    "$H_1: \\mu \\neq \\mu_0$\n",
    "\n",
    "### Right-tailed test\n",
    "\n",
    "$H_0: \\mu \\le \\mu_0$\n",
    "\n",
    "$H_1: \\mu > \\mu_0$\n",
    "\n",
    "### Left-tailed test\n",
    "\n",
    "$H_0: \\mu \\ge \\mu_0$\n",
    "\n",
    "$H_1: \\mu < \\mu_0$\n"
   ]
  },
  {
   "cell_type": "markdown",
   "id": "3c3b4794",
   "metadata": {},
   "source": [
    "EXAMPLE: In a glaucoma study, the following intraocular pressure values were recorded from a sample of 21 elderly subjects. Based on the data, can we conclude that the mean intraocular pressure of the population differs from 14 mm Hg?\n",
    "\n",
    "$H_0 : \\mu = 14$\n",
    "\n",
    "$H_1 : \\mu \\neq 14$"
   ]
  },
  {
   "cell_type": "markdown",
   "id": "22c0e1b8",
   "metadata": {},
   "source": [
    "We have a two tailed test. We are going to use the t-test"
   ]
  },
  {
   "cell_type": "code",
   "execution_count": 24,
   "id": "102f0dee",
   "metadata": {},
   "outputs": [
    {
     "data": {
      "text/html": [
       "<div>\n",
       "<style scoped>\n",
       "    .dataframe tbody tr th:only-of-type {\n",
       "        vertical-align: middle;\n",
       "    }\n",
       "\n",
       "    .dataframe tbody tr th {\n",
       "        vertical-align: top;\n",
       "    }\n",
       "\n",
       "    .dataframe thead th {\n",
       "        text-align: right;\n",
       "    }\n",
       "</style>\n",
       "<table border=\"1\" class=\"dataframe\">\n",
       "  <thead>\n",
       "    <tr style=\"text-align: right;\">\n",
       "      <th></th>\n",
       "      <th>pressure</th>\n",
       "    </tr>\n",
       "  </thead>\n",
       "  <tbody>\n",
       "    <tr>\n",
       "      <th>0</th>\n",
       "      <td>14.5</td>\n",
       "    </tr>\n",
       "    <tr>\n",
       "      <th>1</th>\n",
       "      <td>12.9</td>\n",
       "    </tr>\n",
       "    <tr>\n",
       "      <th>2</th>\n",
       "      <td>17.0</td>\n",
       "    </tr>\n",
       "    <tr>\n",
       "      <th>3</th>\n",
       "      <td>10.0</td>\n",
       "    </tr>\n",
       "    <tr>\n",
       "      <th>4</th>\n",
       "      <td>17.9</td>\n",
       "    </tr>\n",
       "    <tr>\n",
       "      <th>5</th>\n",
       "      <td>12.9</td>\n",
       "    </tr>\n",
       "    <tr>\n",
       "      <th>6</th>\n",
       "      <td>14.0</td>\n",
       "    </tr>\n",
       "    <tr>\n",
       "      <th>7</th>\n",
       "      <td>12.0</td>\n",
       "    </tr>\n",
       "    <tr>\n",
       "      <th>8</th>\n",
       "      <td>18.5</td>\n",
       "    </tr>\n",
       "    <tr>\n",
       "      <th>9</th>\n",
       "      <td>16.1</td>\n",
       "    </tr>\n",
       "    <tr>\n",
       "      <th>10</th>\n",
       "      <td>16.4</td>\n",
       "    </tr>\n",
       "    <tr>\n",
       "      <th>11</th>\n",
       "      <td>20.8</td>\n",
       "    </tr>\n",
       "    <tr>\n",
       "      <th>12</th>\n",
       "      <td>12.0</td>\n",
       "    </tr>\n",
       "    <tr>\n",
       "      <th>13</th>\n",
       "      <td>24.2</td>\n",
       "    </tr>\n",
       "    <tr>\n",
       "      <th>14</th>\n",
       "      <td>16.2</td>\n",
       "    </tr>\n",
       "    <tr>\n",
       "      <th>15</th>\n",
       "      <td>17.5</td>\n",
       "    </tr>\n",
       "    <tr>\n",
       "      <th>16</th>\n",
       "      <td>12.2</td>\n",
       "    </tr>\n",
       "    <tr>\n",
       "      <th>17</th>\n",
       "      <td>14.9</td>\n",
       "    </tr>\n",
       "    <tr>\n",
       "      <th>18</th>\n",
       "      <td>14.1</td>\n",
       "    </tr>\n",
       "    <tr>\n",
       "      <th>19</th>\n",
       "      <td>14.4</td>\n",
       "    </tr>\n",
       "    <tr>\n",
       "      <th>20</th>\n",
       "      <td>19.6</td>\n",
       "    </tr>\n",
       "  </tbody>\n",
       "</table>\n",
       "</div>"
      ],
      "text/plain": [
       "    pressure\n",
       "0       14.5\n",
       "1       12.9\n",
       "2       17.0\n",
       "3       10.0\n",
       "4       17.9\n",
       "5       12.9\n",
       "6       14.0\n",
       "7       12.0\n",
       "8       18.5\n",
       "9       16.1\n",
       "10      16.4\n",
       "11      20.8\n",
       "12      12.0\n",
       "13      24.2\n",
       "14      16.2\n",
       "15      17.5\n",
       "16      12.2\n",
       "17      14.9\n",
       "18      14.1\n",
       "19      14.4\n",
       "20      19.6"
      ]
     },
     "execution_count": 24,
     "metadata": {},
     "output_type": "execute_result"
    }
   ],
   "source": [
    "data = [14.5,12.9,17,10,17.9,12.9,14,12,18.5,16.1,16.4,20.8,12,24.2,16.2,17.5,12.2,14.9,14.1,14.4,19.6]\n",
    "data = pd.DataFrame(data)\n",
    "data.columns=['pressure']\n",
    "data"
   ]
  },
  {
   "cell_type": "code",
   "execution_count": 25,
   "id": "f771111d",
   "metadata": {},
   "outputs": [],
   "source": [
    "confidence_level = 0.95\n",
    "alpha = 0.05\n",
    "pop_mean = 14\n",
    "n = len(data)\n",
    "dof = n-1"
   ]
  },
  {
   "cell_type": "code",
   "execution_count": 26,
   "id": "f4b4efad",
   "metadata": {},
   "outputs": [
    {
     "data": {
      "text/plain": [
       "15.623809523809525"
      ]
     },
     "execution_count": 26,
     "metadata": {},
     "output_type": "execute_result"
    }
   ],
   "source": [
    "sample_mean = data.pressure.mean()\n",
    "sample_mean"
   ]
  },
  {
   "cell_type": "code",
   "execution_count": 27,
   "id": "df720829",
   "metadata": {},
   "outputs": [
    {
     "data": {
      "text/plain": [
       "3.382884089339267"
      ]
     },
     "execution_count": 27,
     "metadata": {},
     "output_type": "execute_result"
    }
   ],
   "source": [
    "sample_stddev = statistics.stdev(data.pressure)\n",
    "sample_stddev"
   ]
  },
  {
   "cell_type": "markdown",
   "id": "723ca8e7",
   "metadata": {},
   "source": [
    "We do not know the population standard deviation, so we use the t-test\n",
    "\n",
    "$ t =  \\frac{\\bar{x}-\\mu}{\\frac{s}{\\sqrt{n}}}$"
   ]
  },
  {
   "cell_type": "code",
   "execution_count": 28,
   "id": "7161e0bb",
   "metadata": {},
   "outputs": [
    {
     "data": {
      "text/plain": [
       "2.1996704174693553"
      ]
     },
     "execution_count": 28,
     "metadata": {},
     "output_type": "execute_result"
    }
   ],
   "source": [
    "t_stat = (sample_mean-pop_mean)/(sample_stddev/n**0.5)\n",
    "t_stat"
   ]
  },
  {
   "cell_type": "code",
   "execution_count": 29,
   "id": "906331e5",
   "metadata": {},
   "outputs": [
    {
     "data": {
      "text/plain": [
       "(-2.085963447265837, 2.0859634472658364)"
      ]
     },
     "execution_count": 29,
     "metadata": {},
     "output_type": "execute_result"
    }
   ],
   "source": [
    "critical_value_upper = st.t.ppf(0.05/2, dof)\n",
    "critical_value_lower = st.t.ppf(1-0.05/2, dof)\n",
    "critical_value_upper, critical_value_lower"
   ]
  },
  {
   "cell_type": "code",
   "execution_count": 31,
   "id": "66ee45df",
   "metadata": {},
   "outputs": [
    {
     "data": {
      "text/plain": [
       "TtestResult(statistic=2.1996704174693553, pvalue=0.03975527869562812, df=20)"
      ]
     },
     "execution_count": 31,
     "metadata": {},
     "output_type": "execute_result"
    }
   ],
   "source": [
    "st.ttest_1samp(data.pressure,14, alternative='two-sided')"
   ]
  },
  {
   "cell_type": "markdown",
   "id": "5c7b9592",
   "metadata": {},
   "source": [
    "Critical value: 2.199\n",
    "The t statistic is in the rejection zone, so we reject the null hypothesis-> the mean of the interocular pressure is not 14 mm HG\n",
    "\n",
    "P-value is 0.03975528, lower than our significance level (alpha) of 0.05, so we reject the null hypothesis: There is sufficient sample evidence to conclude that the true mean intraocular pressure differs from 14 mm Hg."
   ]
  },
  {
   "cell_type": "markdown",
   "id": "8f2065f7",
   "metadata": {},
   "source": [
    "EXAMPLE: A new barista machine fills espressos with 80 ml of liquid. A supervisor thinks it is not working properly. He uses 40 samples to measure and gets a mean of 78 ml with a standard deviation of 2.5. Is there enough evidence to support the idea that the machine is not working properly?\n",
    "\n",
    "\n",
    "$H_0 : \\mu = 80$\n",
    "\n",
    "$H_1 : \\mu \\neq 80$\n",
    "\n",
    "Two tailed test\n",
    "\n",
    "The z-value that corresponds to a 0.025 alpha is -1.96 and 1.96 \n",
    "\n",
    "Confidence Level\tTwo Sided CV\tOne Sided CV\n",
    "\n",
    "90%\t1.64\t1.28\n",
    "\n",
    "95%\t1.96\t1.65\n",
    "\n",
    "99%\t2.58\t2.33\n",
    "\n",
    "Image: https://pro.arcgis.com/en/pro-app/latest/tool-reference/spatial-statistics/GUID-CBF63B74-D1B2-44FC-A316-7AC2B1C1D464-web.png"
   ]
  },
  {
   "cell_type": "code",
   "execution_count": 32,
   "id": "625bc1b6",
   "metadata": {},
   "outputs": [
    {
     "data": {
      "text/plain": [
       "-5.059644256269407"
      ]
     },
     "execution_count": 32,
     "metadata": {},
     "output_type": "execute_result"
    }
   ],
   "source": [
    "sample_mean = 78\n",
    "population_mean = 80\n",
    "n = 40\n",
    "sample_std_dev = 2.5\n",
    "\n",
    "z_test = (sample_mean-population_mean)/(sample_std_dev/n**0.5)\n",
    "z_test"
   ]
  },
  {
   "cell_type": "markdown",
   "id": "f377c6ec",
   "metadata": {},
   "source": [
    "The z score is on the rejection region (it is below -1.96) so we reject the null hypothesis that says the mean is 80, so we can say that the machine is not working properly.\n"
   ]
  },
  {
   "cell_type": "markdown",
   "id": "d86f76d1",
   "metadata": {},
   "source": [
    "EXAMPLE: A battery produced by X-Tesla has an average lifespan of 2 or more years. An engineer believes thsi value to be less. Using 10 samples, he measures the lifetime average to be 1.8 years, with a standard deviation of 0.15.\n",
    "\n",
    "At a 99% confidence level, is there enough evidence to discard the null hypothesis?\n",
    "\n",
    "$H_0 : \\mu \\ge 2$\n",
    "\n",
    "$H_1 : \\mu < 2$"
   ]
  },
  {
   "cell_type": "markdown",
   "id": "78bd1b93",
   "metadata": {},
   "source": [
    "One tailed test: Left tailed test\n",
    "\n",
    "We'll use t-test because we don't know the pop std dev and n<30\n",
    "\n",
    "The critical value of t for 9 degrees of freedom (n-1=10-1) and 99% confidence level is -2.821 https://www.sjsu.edu/faculty/gerstman/StatPrimer/t-table.pdf"
   ]
  },
  {
   "cell_type": "code",
   "execution_count": 33,
   "id": "d192d712",
   "metadata": {},
   "outputs": [],
   "source": [
    "pop_mean = 2\n",
    "sample_mean = 1.8\n",
    "sample_stdev = 0.15\n",
    "n=10"
   ]
  },
  {
   "cell_type": "code",
   "execution_count": 34,
   "id": "05a79542",
   "metadata": {},
   "outputs": [
    {
     "data": {
      "text/plain": [
       "-4.2163702135578385"
      ]
     },
     "execution_count": 34,
     "metadata": {},
     "output_type": "execute_result"
    }
   ],
   "source": [
    "t_stat = (sample_mean-pop_mean)/(sample_stdev/n**0.5)\n",
    "t_stat"
   ]
  },
  {
   "cell_type": "code",
   "execution_count": 36,
   "id": "9fd3afbe",
   "metadata": {},
   "outputs": [
    {
     "data": {
      "text/plain": [
       "-2.8214379233005498"
      ]
     },
     "execution_count": 36,
     "metadata": {},
     "output_type": "execute_result"
    }
   ],
   "source": [
    "critical_value = st.t.ppf(0.01, 9)\n",
    "critical_value"
   ]
  },
  {
   "cell_type": "markdown",
   "id": "1e67dbdd",
   "metadata": {},
   "source": [
    "The t value is in the rejection zone, so, with 99% confidence, we reject H0 that said the lifetime average of the batteries was 2 or more years. We can say, with 99% confidence, that the average lifespan of the batteries is less than 2 years"
   ]
  },
  {
   "cell_type": "markdown",
   "id": "10b95022",
   "metadata": {},
   "source": [
    "### One sample t-test: \n",
    "\n",
    "The One Sample t-test ascertains if the sample average differs statistically from an actual or apposed population mean. \n",
    "\n",
    "EXAMPLE: It is said that the average age of people going to see Barbie is 30 years old. You sample 10 people to check if this is correct.\n",
    "\n",
    "$H_0 : \\mu = 30$\n",
    "\n",
    "$H_1 : \\mu \\neq 30$\n",
    "\n",
    "alpha = 0.05"
   ]
  },
  {
   "cell_type": "code",
   "execution_count": 37,
   "id": "85ab241c",
   "metadata": {},
   "outputs": [
    {
     "data": {
      "text/plain": [
       "45.4"
      ]
     },
     "execution_count": 37,
     "metadata": {},
     "output_type": "execute_result"
    }
   ],
   "source": [
    "ages = [45, 89, 23, 46, 12, 69, 45, 24, 34, 67]  \n",
    " \n",
    "mean = np.mean(ages)  \n",
    "mean"
   ]
  },
  {
   "cell_type": "code",
   "execution_count": 38,
   "id": "d0bcfa7d",
   "metadata": {},
   "outputs": [
    {
     "data": {
      "text/plain": [
       "(2.0397003109502543, 0.07179988272763561)"
      ]
     },
     "execution_count": 38,
     "metadata": {},
     "output_type": "execute_result"
    }
   ],
   "source": [
    "#Test\n",
    "t_test, p_val = st.ttest_1samp(ages, 30, alternative=\"two-sided\") \n",
    "t_test, p_val"
   ]
  },
  {
   "cell_type": "code",
   "execution_count": 40,
   "id": "5e0defb3",
   "metadata": {},
   "outputs": [
    {
     "data": {
      "text/plain": [
       "(-2.262157162740992, 2.2621571627409915)"
      ]
     },
     "execution_count": 40,
     "metadata": {},
     "output_type": "execute_result"
    }
   ],
   "source": [
    "critical_value_lower = st.t.ppf(0.05/2, 9)\n",
    "critical_value_upper = st.t.ppf(1-0.05/2, 9)\n",
    "critical_value_lower, critical_value_upper"
   ]
  },
  {
   "cell_type": "markdown",
   "id": "8e774db8",
   "metadata": {},
   "source": [
    "The t statistic is less than the critical value upper limit and greater than the lower limit\n",
    "\n",
    "The p-value is greater than 0.05, so you cannot reject the null hypothesis that says that the mean age is 30"
   ]
  },
  {
   "cell_type": "markdown",
   "id": "18fecace",
   "metadata": {},
   "source": [
    "EXAMPLE: We want to know if the mean weight of the tuna being captured in northern Japan is 310 kilos. We collect a random sample of weights:"
   ]
  },
  {
   "cell_type": "code",
   "execution_count": 41,
   "id": "afbd696a",
   "metadata": {},
   "outputs": [
    {
     "data": {
      "text/plain": [
       "TtestResult(statistic=-1.5848116313861254, pvalue=0.1389944275158753, df=12)"
      ]
     },
     "execution_count": 41,
     "metadata": {},
     "output_type": "execute_result"
    }
   ],
   "source": [
    "weights = [300, 315, 320, 311, 314, 309, 300, 308, 305, 303, 305, 301, 303]\n",
    "\n",
    "st.ttest_1samp(weights, 310)"
   ]
  },
  {
   "cell_type": "code",
   "execution_count": 42,
   "id": "b5413087",
   "metadata": {},
   "outputs": [
    {
     "data": {
      "text/plain": [
       "(-2.178812829663418, 2.1788128296634177)"
      ]
     },
     "execution_count": 42,
     "metadata": {},
     "output_type": "execute_result"
    }
   ],
   "source": [
    "critical_value_lower = st.t.ppf(0.05/2, 12)\n",
    "critical_value_upper = st.t.ppf(1-0.05/2, 12)\n",
    "critical_value_lower, critical_value_upper"
   ]
  },
  {
   "cell_type": "markdown",
   "id": "5d5ee841",
   "metadata": {},
   "source": [
    "We fail to reject H0: we do not have enough evidence to say that the mean weight of tuna in that region is different than 310 kilos"
   ]
  },
  {
   "cell_type": "markdown",
   "id": "9253012e",
   "metadata": {},
   "source": [
    "### Two sample test\n",
    "\n",
    "A two sample t-test is used to test whether or not the means of two populations are equal.\n",
    "\n",
    "For example, suppose we want to know whether or not the mean weight between two different species of turtles is equal with a confidence level of 95%\n",
    "\n",
    "$ H_0: \\mu_{green} = \\mu_{spotted} $\n",
    "\n",
    "$ H_1: \\mu_{green} \\neq \\mu_{spotted} $"
   ]
  },
  {
   "cell_type": "code",
   "execution_count": 43,
   "id": "966fb386",
   "metadata": {},
   "outputs": [],
   "source": [
    "green = [300, 315, 320, 311, 314, 309, 300, 308, 305, 303, 305, 301, 303]\n",
    "\n",
    "spotted = [335, 329, 322, 321, 324, 319, 304, 308, 305, 311, 307, 300, 305]"
   ]
  },
  {
   "cell_type": "code",
   "execution_count": 46,
   "id": "aa9fe552",
   "metadata": {},
   "outputs": [
    {
     "data": {
      "text/plain": [
       "Ttest_indResult(statistic=-2.10090292575557, pvalue=0.04633501389516513)"
      ]
     },
     "execution_count": 46,
     "metadata": {},
     "output_type": "execute_result"
    }
   ],
   "source": [
    "st.ttest_ind(green, spotted, alternative = \"two-sided\") "
   ]
  },
  {
   "cell_type": "markdown",
   "id": "55e7456b",
   "metadata": {},
   "source": [
    "Since the p-value is less than 0.05, we reject the null hypothesis: we have enough evidence to say, with 95% confidence level, that the mean weights between the two species is not equal"
   ]
  },
  {
   "cell_type": "markdown",
   "id": "5ed349cd",
   "metadata": {},
   "source": [
    "### Paired Samples t-test\n",
    "\n",
    "A paired samples t-test is used to compare the means of two samples when each observation in one sample can be paired with an observation in the other sample.\n",
    "\n",
    "EXAMPLE: Amazon changed the boxes used to pack small orders. The company wants to know if the new box makes the employees pack faster. They measured the number of orders packed before the change and after. We want 95% confidence level\n",
    "\n",
    "$ H_0: \\mu_{before} = \\mu_{after} $\n",
    "\n",
    "$ H_1: \\mu_{before} \\le \\mu_{after} $"
   ]
  },
  {
   "cell_type": "code",
   "execution_count": 45,
   "id": "2d6cbad8",
   "metadata": {},
   "outputs": [],
   "source": [
    "before = [22, 24, 20, 19, 19, 20, 22, 25, 24, 23, 22, 21]\n",
    "\n",
    "after = [23, 25, 20, 24, 18, 22, 23, 28, 24, 25, 24, 20]"
   ]
  },
  {
   "cell_type": "code",
   "execution_count": 47,
   "id": "0784448a",
   "metadata": {},
   "outputs": [
    {
     "data": {
      "text/plain": [
       "TtestResult(statistic=-2.5289026942943655, pvalue=0.01401403729341254, df=11)"
      ]
     },
     "execution_count": 47,
     "metadata": {},
     "output_type": "execute_result"
    }
   ],
   "source": [
    "st.ttest_rel(a=before, b=after, alternative = 'less')"
   ]
  },
  {
   "cell_type": "markdown",
   "id": "d92e67ba",
   "metadata": {},
   "source": [
    "The p-value is less than 0.05, so we reject the null hypothesis that said the means were the same and we can say, with a confidence level of 95%, that the new boxes make the employees pack faster"
   ]
  },
  {
   "cell_type": "markdown",
   "id": "e904b252",
   "metadata": {},
   "source": [
    "$ H_0: \\mu_{before} = \\mu_{after} $\n",
    "\n",
    "$ H_1: \\mu_{before} \\ge \\mu_{after} $"
   ]
  },
  {
   "cell_type": "code",
   "execution_count": 50,
   "id": "411cb37c",
   "metadata": {},
   "outputs": [
    {
     "data": {
      "text/plain": [
       "TtestResult(statistic=-2.5289026942943655, pvalue=0.9859859627065874, df=11)"
      ]
     },
     "execution_count": 50,
     "metadata": {},
     "output_type": "execute_result"
    }
   ],
   "source": [
    "st.ttest_rel(a=before, b=after, alternative = 'greater')"
   ]
  },
  {
   "cell_type": "markdown",
   "id": "ff0a9a4b",
   "metadata": {},
   "source": [
    "### Pooled variances test\n",
    "\n",
    "A psychologist was interested in exploring whether or not male and female college students have different driving behaviors. There were a number of ways that she could quantify driving behaviors. She opted to focus on the fastest speed ever driven by an individual. Therefore, the particular statistical question she framed was as follows:\n",
    "\n",
    "Is the mean fastest speed driven by male college students different than the mean fastest speed driven by female college students?\n",
    "\n",
    "She conducted a survey of a random n = 34 male college students and a random m = 29 female college students. Here is a descriptive summary of the results of her survey:\n",
    "\n",
    "#### Males\n",
    "samples = 34\n",
    "\n",
    "Sample mean = 105.5\n",
    "\n",
    "Sample standard deviation: 20.1\n",
    "\n",
    "#### Females\n",
    "\n",
    "samples = 29\n",
    "\n",
    "Sample mean = 90.0\n",
    "\n",
    "Sample standard deviation:12.2\n",
    "\n",
    "We are assuming that the population variances are equal (but unknown)."
   ]
  },
  {
   "cell_type": "markdown",
   "id": "0031666b",
   "metadata": {},
   "source": [
    "$ H_0: \\mu_{males} = \\mu_{females} $\n",
    "\n",
    "$ H_1: \\mu_{males} \\neq \\mu_{females} $\n",
    "\n",
    "We'll use t-test. It is a two tailed test\n",
    "\n",
    "Level of signifance = 0.05\n",
    "\n",
    "Pooled sample variance:\n",
    "\n",
    "$$ s_p = \\sqrt{\\frac {(n_1-1)s_1^2 + (n_2-1)s_2^2}{n_1+n_2-2}} $$\n",
    "\n",
    "$$ t =\\frac{\\bar{x_1}-\\bar{x_2}}{s_p \\sqrt{\\frac{1}{n_1}+{\\frac{1}{n_2}}}}$$"
   ]
  },
  {
   "cell_type": "code",
   "execution_count": 51,
   "id": "69709826",
   "metadata": {},
   "outputs": [
    {
     "data": {
      "text/plain": [
       "16.93761455711063"
      ]
     },
     "execution_count": 51,
     "metadata": {},
     "output_type": "execute_result"
    }
   ],
   "source": [
    "import math \n",
    "sample_mean1 = 105.5\n",
    "sample_std1 = 20.1\n",
    "n1 = 34\n",
    "sample_mean2 = 90.9\n",
    "sample_std2 = 12.2\n",
    "n2 = 29\n",
    "\n",
    "pooled_sample_std = math.sqrt(((n1-1)*sample_std1**2 + (n2-1)*sample_std2**2)/(n1+n2-2))\n",
    "pooled_sample_std"
   ]
  },
  {
   "cell_type": "code",
   "execution_count": 52,
   "id": "3ce59a0d",
   "metadata": {},
   "outputs": [
    {
     "data": {
      "text/plain": [
       "3.4101131776909535"
      ]
     },
     "execution_count": 52,
     "metadata": {},
     "output_type": "execute_result"
    }
   ],
   "source": [
    "statistic = (sample_mean1-sample_mean2)/(pooled_sample_std*math.sqrt((1/n1)+(1/n2)))\n",
    "statistic"
   ]
  },
  {
   "cell_type": "code",
   "execution_count": 53,
   "id": "7bf4f092",
   "metadata": {},
   "outputs": [
    {
     "data": {
      "text/plain": [
       "(-1.9996235841149783, 1.9996235841149779)"
      ]
     },
     "execution_count": 53,
     "metadata": {},
     "output_type": "execute_result"
    }
   ],
   "source": [
    "critical_value_lower = st.t.ppf(0.025, n1+n2-2) #alpha is 0.05\n",
    "critical_value_upper = st.t.ppf(1-0.025, n1+n2-2)\n",
    "critical_value_lower, critical_value_upper"
   ]
  },
  {
   "cell_type": "markdown",
   "id": "29979701",
   "metadata": {},
   "source": [
    "T test critical values are -1.99 and 1.99. Our t statistic is above the upper critical value, it is in the rejection region so we reject the null hypothesis. We can say, with 95% confidence, that the fastest mean averages are different between males and females"
   ]
  },
  {
   "cell_type": "code",
   "execution_count": 54,
   "id": "04796c97",
   "metadata": {},
   "outputs": [
    {
     "data": {
      "text/plain": [
       "0.0005783712704484634"
      ]
     },
     "execution_count": 54,
     "metadata": {},
     "output_type": "execute_result"
    }
   ],
   "source": [
    "p_value = 1- st.t.cdf(statistic,n1+n2-2)\n",
    "p_value"
   ]
  },
  {
   "cell_type": "markdown",
   "id": "b7a82f1c",
   "metadata": {},
   "source": [
    "P-value is below 0.05 so we reject H0"
   ]
  }
 ],
 "metadata": {
  "kernelspec": {
   "display_name": "DA_env",
   "language": "python",
   "name": "da_env"
  },
  "language_info": {
   "codemirror_mode": {
    "name": "ipython",
    "version": 3
   },
   "file_extension": ".py",
   "mimetype": "text/x-python",
   "name": "python",
   "nbconvert_exporter": "python",
   "pygments_lexer": "ipython3",
   "version": "3.9.16"
  }
 },
 "nbformat": 4,
 "nbformat_minor": 5
}
