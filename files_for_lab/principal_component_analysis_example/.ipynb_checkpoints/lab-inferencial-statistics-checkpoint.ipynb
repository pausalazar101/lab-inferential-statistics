{
 "cells": [
  {
   "cell_type": "code",
   "execution_count": 1,
   "id": "a43045a9-d378-46dd-a2d2-fc3f03fbc5eb",
   "metadata": {},
   "outputs": [
    {
     "name": "stdout",
     "output_type": "stream",
     "text": [
      "Test statistic (by hand): 4.761904761904759\n",
      "Test statistic (using Python): 4.761904761904759\n"
     ]
    }
   ],
   "source": [
    "import math\n",
    "\n",
    "# Given values\n",
    "x_bar = 130.1\n",
    "mu = 120\n",
    "s = 21.21\n",
    "n = 100\n",
    "\n",
    "# Calculate the test statistic by hand\n",
    "test_statistic_hand = (x_bar - mu) / (s / math.sqrt(n))\n",
    "print(\"Test statistic (by hand):\", test_statistic_hand)\n",
    "\n",
    "# Calculate the test statistic using Python\n",
    "from scipy import stats\n",
    "\n",
    "test_statistic_python = (x_bar - mu) / (s / math.sqrt(n))\n",
    "print(\"Test statistic (using Python):\", test_statistic_python)\n"
   ]
  }
 ],
 "metadata": {
  "kernelspec": {
   "display_name": "Python 3 (ipykernel)",
   "language": "python",
   "name": "python3"
  },
  "language_info": {
   "codemirror_mode": {
    "name": "ipython",
    "version": 3
   },
   "file_extension": ".py",
   "mimetype": "text/x-python",
   "name": "python",
   "nbconvert_exporter": "python",
   "pygments_lexer": "ipython3",
   "version": "3.9.12"
  }
 },
 "nbformat": 4,
 "nbformat_minor": 5
}
